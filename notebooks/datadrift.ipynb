{
 "cells": [
  {
   "cell_type": "markdown",
   "metadata": {},
   "source": [
    "# Data drift notebook"
   ]
  },
  {
   "cell_type": "code",
   "execution_count": 32,
   "metadata": {},
   "outputs": [],
   "source": [
    "import copy\n",
    "import os\n",
    "\n",
    "import torch\n",
    "import torchdrift\n",
    "from omegaconf import OmegaConf\n",
    "\n",
    "from FishEye.data.data_module import FishDataModule\n",
    "from FishEye.models.model import FishNN\n",
    "\n",
    "if \"notebooks\" in os.getcwd():\n",
    "    os.chdir(\"..\")"
   ]
  },
  {
   "cell_type": "code",
   "execution_count": 33,
   "metadata": {},
   "outputs": [
    {
     "data": {
      "text/plain": [
       "FishNN(\n",
       "  (accuracy): MulticlassAccuracy()\n",
       "  (feature_extractor): Sequential(\n",
       "    (0): Conv2d(3, 16, kernel_size=(3, 3), stride=(2, 2))\n",
       "    (1): ReLU()\n",
       "    (2): Conv2d(16, 32, kernel_size=(3, 3), stride=(2, 2))\n",
       "    (3): ReLU()\n",
       "    (4): Conv2d(32, 32, kernel_size=(3, 3), stride=(2, 2))\n",
       "    (5): ReLU()\n",
       "    (6): Flatten(start_dim=1, end_dim=-1)\n",
       "  )\n",
       "  (classifier): Sequential(\n",
       "    (0): Linear(in_features=124416, out_features=256, bias=True)\n",
       "    (1): Dropout(p=0.2, inplace=False)\n",
       "    (2): Linear(in_features=256, out_features=9, bias=True)\n",
       "    (3): Dropout(p=0.2, inplace=False)\n",
       "  )\n",
       "  (criterion): CrossEntropyLoss()\n",
       ")"
      ]
     },
     "execution_count": 33,
     "metadata": {},
     "output_type": "execute_result"
    }
   ],
   "source": [
    "model = FishNN.load_from_checkpoint(\"models/epoch=379-step=4180.ckpt\", cfg=OmegaConf.load(\"config/config.yaml\"))\n",
    "model.to(\"cuda\")"
   ]
  },
  {
   "cell_type": "code",
   "execution_count": 34,
   "metadata": {},
   "outputs": [],
   "source": [
    "feature_extractor = copy.deepcopy(model)\n",
    "feature_extractor.classifier = torch.nn.Identity()\n",
    "drift_detector = torchdrift.detectors.KernelMMDDriftDetector()\n",
    "\n",
    "data_module_aug = FishDataModule(augment=True)\n",
    "data_module = FishDataModule(augment=False)\n",
    "\n",
    "data_module_aug.setup(stage=\"fit\")\n",
    "data_module.setup(stage=\"fit\")"
   ]
  },
  {
   "cell_type": "code",
   "execution_count": 35,
   "metadata": {},
   "outputs": [
    {
     "name": "stderr",
     "output_type": "stream",
     "text": [
      "100%|██████████| 11/11 [00:02<00:00,  4.98it/s]\n"
     ]
    }
   ],
   "source": [
    "torchdrift.utils.fit(data_module.train_dataloader(), feature_extractor, drift_detector)"
   ]
  },
  {
   "cell_type": "code",
   "execution_count": 36,
   "metadata": {},
   "outputs": [],
   "source": [
    "drift_detection_model = torch.nn.Sequential(\n",
    "    feature_extractor,\n",
    "    drift_detector\n",
    ")"
   ]
  },
  {
   "cell_type": "code",
   "execution_count": 43,
   "metadata": {},
   "outputs": [
    {
     "data": {
      "text/plain": [
       "(tensor(inf, device='cuda:0'), tensor(0., device='cuda:0'))"
      ]
     },
     "execution_count": 43,
     "metadata": {},
     "output_type": "execute_result"
    }
   ],
   "source": [
    "# get batch from augmented data\n",
    "batch = next(iter(data_module.train_dataloader()))\n",
    "data, target = batch\n",
    "\n",
    "features = feature_extractor(data.to(\"cuda\")[0].unsqueeze(0))\n",
    "score = drift_detector(features)\n",
    "p_val = drift_detector.compute_p_value(features)\n",
    "score, p_val"
   ]
  },
  {
   "cell_type": "code",
   "execution_count": null,
   "metadata": {},
   "outputs": [],
   "source": []
  },
  {
   "cell_type": "code",
   "execution_count": null,
   "metadata": {},
   "outputs": [],
   "source": []
  }
 ],
 "metadata": {
  "kernelspec": {
   "display_name": "FishEye",
   "language": "python",
   "name": "python3"
  },
  "language_info": {
   "codemirror_mode": {
    "name": "ipython",
    "version": 3
   },
   "file_extension": ".py",
   "mimetype": "text/x-python",
   "name": "python",
   "nbconvert_exporter": "python",
   "pygments_lexer": "ipython3",
   "version": "3.10.13"
  }
 },
 "nbformat": 4,
 "nbformat_minor": 2
}
