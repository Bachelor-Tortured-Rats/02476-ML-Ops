{
 "cells": [
  {
   "cell_type": "code",
   "execution_count": 29,
   "metadata": {},
   "outputs": [],
   "source": [
    "import os\n",
    "\n",
    "import torchvision.transforms as transforms\n",
    "from omegaconf import OmegaConf\n",
    "from PIL import Image\n",
    "from torch.profiler import ProfilerActivity, profile, tensorboard_trace_handler\n",
    "\n",
    "from FishEye.models.model import FishNN\n",
    "from FishEye.predict_model import preprocess_images\n",
    "\n",
    "if \"notebooks\" in os.getcwd():\n",
    "    os.chdir(\"..\")"
   ]
  },
  {
   "cell_type": "code",
   "execution_count": 4,
   "metadata": {},
   "outputs": [],
   "source": [
    "# Load, format and preprocess images\n",
    "image_filenames = [\"data/raw/NA_Fish_Dataset/Trout/00005.png\", \"data/raw/NA_Fish_Dataset/Red Mullet/00017.png\"]\n",
    "\n",
    "images = [transforms.ToTensor()(Image.open(filename)) for filename in image_filenames]\n",
    "\n",
    "images = preprocess_images(images)"
   ]
  },
  {
   "cell_type": "code",
   "execution_count": 10,
   "metadata": {},
   "outputs": [
    {
     "name": "stderr",
     "output_type": "stream",
     "text": [
      "STAGE:2024-01-18 11:34:35 7025:7025 ActivityProfilerController.cpp:312] Completed Stage: Warm Up\n",
      "STAGE:2024-01-18 11:34:35 7025:7025 ActivityProfilerController.cpp:318] Completed Stage: Collection\n",
      "STAGE:2024-01-18 11:34:35 7025:7025 ActivityProfilerController.cpp:322] Completed Stage: Post Processing\n"
     ]
    }
   ],
   "source": [
    "DEVICE = \"cpu\"\n",
    "\n",
    "model = FishNN.load_from_checkpoint(\"models/epoch=99-step=600.ckpt\", cfg=OmegaConf.load(\"config/config.yaml\"))\n",
    "model.to(DEVICE)\n",
    "images = images.to(DEVICE)\n",
    "\n",
    "with profile(activities=[ProfilerActivity.CPU], record_shapes=True, profile_memory=True) as prof:\n",
    "    model(images)"
   ]
  },
  {
   "cell_type": "code",
   "execution_count": 11,
   "metadata": {},
   "outputs": [
    {
     "name": "stdout",
     "output_type": "stream",
     "text": [
      "----------------------------  ------------  ------------  ------------  ------------  ------------  ------------  ------------  ------------  \n",
      "                        Name    Self CPU %      Self CPU   CPU total %     CPU total  CPU time avg       CPU Mem  Self CPU Mem    # of Calls  \n",
      "----------------------------  ------------  ------------  ------------  ------------  ------------  ------------  ------------  ------------  \n",
      "                aten::linear         0.14%       6.000us        59.13%       2.555ms       2.555ms          72 b           0 b             1  \n",
      "                 aten::addmm        58.41%       2.524ms        58.71%       2.537ms       2.537ms          72 b          72 b             1  \n",
      "                aten::conv2d         0.09%       4.000us        28.77%       1.243ms       1.243ms       7.97 Mb           0 b             1  \n",
      "           aten::convolution         0.42%      18.000us        28.67%       1.239ms       1.239ms       7.97 Mb           0 b             1  \n",
      "          aten::_convolution         0.19%       8.000us        28.26%       1.221ms       1.221ms       7.97 Mb           0 b             1  \n",
      "    aten::mkldnn_convolution        27.70%       1.197ms        28.07%       1.213ms       1.213ms       7.97 Mb           0 b             1  \n",
      "                  aten::relu         0.39%      17.000us        11.80%     510.000us     510.000us       7.97 Mb           0 b             1  \n",
      "             aten::clamp_min        11.41%     493.000us        11.41%     493.000us     493.000us       7.97 Mb       7.97 Mb             1  \n",
      "               aten::flatten         0.12%       5.000us         0.30%      13.000us      13.000us           0 b           0 b             1  \n",
      "                     aten::t         0.14%       6.000us         0.28%      12.000us      12.000us           0 b           0 b             1  \n",
      "----------------------------  ------------  ------------  ------------  ------------  ------------  ------------  ------------  ------------  \n",
      "Self CPU time total: 4.321ms\n",
      "\n"
     ]
    }
   ],
   "source": [
    "print(prof.key_averages().table(sort_by=\"cpu_time_total\", row_limit=10))\n"
   ]
  },
  {
   "cell_type": "code",
   "execution_count": 7,
   "metadata": {},
   "outputs": [
    {
     "name": "stdout",
     "output_type": "stream",
     "text": [
      "----------------------------  ------------  ------------  ------------  ------------  ------------  ------------  --------------------------------------------------------------------------------  \n",
      "                        Name    Self CPU %      Self CPU   CPU total %     CPU total  CPU time avg    # of Calls                                                                      Input Shapes  \n",
      "----------------------------  ------------  ------------  ------------  ------------  ------------  ------------  --------------------------------------------------------------------------------  \n",
      "                aten::conv2d         0.05%      10.000us        70.00%      14.466ms      14.466ms             1                           [[2, 3, 445, 590], [16, 3, 3, 3], [16], [], [], [], []]  \n",
      "           aten::convolution         0.15%      31.000us        69.95%      14.456ms      14.456ms             1                   [[2, 3, 445, 590], [16, 3, 3, 3], [16], [], [], [], [], [], []]  \n",
      "          aten::_convolution         0.05%      11.000us        69.80%      14.425ms      14.425ms             1   [[2, 3, 445, 590], [16, 3, 3, 3], [16], [], [], [], [], [], [], [], [], [], []]  \n",
      "    aten::mkldnn_convolution        69.62%      14.386ms        69.75%      14.414ms      14.414ms             1                           [[2, 3, 445, 590], [16, 3, 3, 3], [16], [], [], [], []]  \n",
      "                aten::linear         0.08%      16.000us        23.24%       4.802ms       4.802ms             1                                                 [[2, 1044288], [9, 1044288], [9]]  \n",
      "                 aten::addmm        23.05%       4.763ms        23.10%       4.774ms       4.774ms             1                                         [[9], [2, 1044288], [1044288, 9], [], []]  \n",
      "                  aten::relu         0.13%      27.000us         6.67%       1.379ms       1.379ms             1                                                               [[2, 16, 222, 294]]  \n",
      "             aten::clamp_min         6.54%       1.352ms         6.54%       1.352ms       1.352ms             1                                                           [[2, 16, 222, 294], []]  \n",
      "               aten::flatten         0.04%       9.000us         0.09%      18.000us      18.000us             1                                                       [[2, 16, 222, 294], [], []]  \n",
      "                 aten::empty         0.08%      17.000us         0.08%      17.000us       8.500us             2                                                          [[], [], [], [], [], []]  \n",
      "                     aten::t         0.03%       6.000us         0.06%      12.000us      12.000us             1                                                                    [[9, 1044288]]  \n",
      "           aten::as_strided_         0.04%       9.000us         0.04%       9.000us       9.000us             1                                                   [[2, 16, 222, 294], [], [], []]  \n",
      "                  aten::view         0.04%       9.000us         0.04%       9.000us       9.000us             1                                                           [[2, 16, 222, 294], []]  \n",
      "                 aten::copy_         0.04%       8.000us         0.04%       8.000us       8.000us             1                                                              [[2, 9], [2, 9], []]  \n",
      "             aten::transpose         0.02%       4.000us         0.03%       6.000us       6.000us             1                                                            [[9, 1044288], [], []]  \n",
      "                aten::expand         0.01%       3.000us         0.01%       3.000us       3.000us             1                                                                     [[9], [], []]  \n",
      "               aten::resize_         0.01%       2.000us         0.01%       2.000us       2.000us             1                                                       [[2, 16, 222, 294], [], []]  \n",
      "            aten::as_strided         0.01%       2.000us         0.01%       2.000us       2.000us             1                                                        [[9, 1044288], [], [], []]  \n",
      "            aten::as_strided         0.00%       0.000us         0.00%       0.000us       0.000us             1                                                                 [[9], [], [], []]  \n",
      "          aten::resolve_conj         0.00%       0.000us         0.00%       0.000us       0.000us             1                                                                          [[2, 9]]  \n",
      "          aten::resolve_conj         0.00%       0.000us         0.00%       0.000us       0.000us             1                                                                    [[2, 1044288]]  \n",
      "----------------------------  ------------  ------------  ------------  ------------  ------------  ------------  --------------------------------------------------------------------------------  \n",
      "Self CPU time total: 20.665ms\n",
      "\n"
     ]
    }
   ],
   "source": [
    "print(prof.key_averages(group_by_input_shape=True).table(sort_by=\"cpu_time_total\", row_limit=30))"
   ]
  },
  {
   "cell_type": "code",
   "execution_count": 14,
   "metadata": {},
   "outputs": [
    {
     "name": "stderr",
     "output_type": "stream",
     "text": [
      "STAGE:2024-01-18 11:36:16 7025:7025 ActivityProfilerController.cpp:312] Completed Stage: Warm Up\n",
      "STAGE:2024-01-18 11:36:16 7025:7025 ActivityProfilerController.cpp:318] Completed Stage: Collection\n",
      "STAGE:2024-01-18 11:36:16 7025:7025 ActivityProfilerController.cpp:322] Completed Stage: Post Processing\n"
     ]
    }
   ],
   "source": [
    "DEVICE = \"cuda\"\n",
    "\n",
    "model.to(DEVICE)\n",
    "images = images.to(DEVICE)\n",
    "\n",
    "with profile(activities=[ProfilerActivity.CPU, ProfilerActivity.CUDA], record_shapes=True, profile_memory=True) as prof:\n",
    "    model(images)"
   ]
  },
  {
   "cell_type": "code",
   "execution_count": 19,
   "metadata": {},
   "outputs": [
    {
     "name": "stdout",
     "output_type": "stream",
     "text": [
      "-------------------------------------------------------  ------------  ------------  ------------  ------------  ------------  ------------  ------------  ------------  ------------  ------------  ------------  ------------  ------------  ------------  --------------------------------------------------------------------------------  \n",
      "                                                   Name    Self CPU %      Self CPU   CPU total %     CPU total  CPU time avg     Self CUDA   Self CUDA %    CUDA total  CUDA time avg       CPU Mem  Self CPU Mem      CUDA Mem  Self CUDA Mem    # of Calls                                                                      Input Shapes  \n",
      "-------------------------------------------------------  ------------  ------------  ------------  ------------  ------------  ------------  ------------  ------------  ------------  ------------  ------------  ------------  ------------  ------------  --------------------------------------------------------------------------------  \n",
      "                                           aten::linear         0.20%      30.000us         3.19%     489.000us      48.900us       0.000us         0.00%       3.448ms     344.800us           0 b           0 b       5.00 Kb           0 b            10                                                 [[2, 1044288], [9, 1044288], [9]]  \n",
      "                                            aten::addmm         1.98%     303.000us         2.57%     393.000us      39.300us       3.448ms        70.54%       3.448ms     344.800us           0 b           0 b       5.00 Kb       5.00 Kb            10                                         [[9], [2, 1044288], [1044288, 9], [], []]  \n",
      "                        ampere_sgemm_32x32_sliced1x4_tn         0.00%       0.000us         0.00%       0.000us       0.000us       3.377ms        69.09%       3.377ms     337.700us           0 b           0 b           0 b           0 b            10                                                                                []  \n",
      "                                           aten::conv2d         0.17%      26.000us        73.85%      11.305ms       1.131ms       0.000us         0.00%       1.014ms     101.400us           0 b           0 b      79.67 Mb           0 b            10                           [[2, 3, 445, 590], [16, 3, 3, 3], [16], [], [], [], []]  \n",
      "                                      aten::convolution         0.69%     105.000us        73.68%      11.279ms       1.128ms       0.000us         0.00%       1.014ms     101.400us           0 b           0 b      79.67 Mb           0 b            10                   [[2, 3, 445, 590], [16, 3, 3, 3], [16], [], [], [], [], [], []]  \n",
      "                                     aten::_convolution         1.00%     153.000us        72.99%      11.174ms       1.117ms       0.000us         0.00%       1.014ms     101.400us           0 b           0 b      79.67 Mb           0 b            10   [[2, 3, 445, 590], [16, 3, 3, 3], [16], [], [], [], [], [], [], [], [], [], []]  \n",
      "                                aten::cudnn_convolution         3.69%     565.000us        70.65%      10.815ms       1.081ms     587.000us        12.01%     587.000us      58.700us           0 b           0 b      79.67 Mb      79.67 Mb            10                     [[2, 3, 445, 590], [16, 3, 3, 3], [], [], [], [], [], [], []]  \n",
      "void implicit_convolve_sgemm<float, float, 1024, 5, ...         0.00%       0.000us         0.00%       0.000us       0.000us     587.000us        12.01%     587.000us      58.700us           0 b           0 b           0 b           0 b            10                                                                                []  \n",
      "                                             aten::add_         0.83%     127.000us         1.19%     182.000us      18.200us     427.000us         8.74%     427.000us      42.700us           0 b           0 b           0 b           0 b            10                                            [[2, 16, 222, 294], [1, 16, 1, 1], []]  \n",
      "void at::native::elementwise_kernel<128, 2, at::nati...         0.00%       0.000us         0.00%       0.000us       0.000us     427.000us         8.74%     427.000us      42.700us           0 b           0 b           0 b           0 b            10                                                                                []  \n",
      "                                             aten::relu         0.55%      84.000us         1.70%     261.000us      26.100us       0.000us         0.00%     426.000us      42.600us           0 b           0 b      79.67 Mb           0 b            10                                                               [[2, 16, 222, 294]]  \n",
      "                                        aten::clamp_min         0.67%     102.000us         1.16%     177.000us      17.700us     426.000us         8.72%     426.000us      42.600us           0 b           0 b      79.67 Mb      79.67 Mb            10                                                           [[2, 16, 222, 294], []]  \n",
      "void at::native::vectorized_elementwise_kernel<4, at...         0.00%       0.000us         0.00%       0.000us       0.000us     426.000us         8.72%     426.000us      42.600us           0 b           0 b           0 b           0 b            10                                                                                []  \n",
      "void splitKreduce_kernel<32, 16, int, float, float, ...         0.00%       0.000us         0.00%       0.000us       0.000us      71.000us         1.45%      71.000us       7.100us           0 b           0 b           0 b           0 b            10                                                                                []  \n",
      "                                  cudaStreamIsCapturing         0.01%       2.000us         0.01%       2.000us       0.200us       0.000us         0.00%       0.000us       0.000us           0 b           0 b           0 b           0 b            10                                                                                []  \n",
      "                                  cudaStreamGetPriority         0.00%       0.000us         0.00%       0.000us       0.000us       0.000us         0.00%       0.000us       0.000us           0 b           0 b           0 b           0 b            10                                                                                []  \n",
      "                       cudaDeviceGetStreamPriorityRange         0.00%       0.000us         0.00%       0.000us       0.000us       0.000us         0.00%       0.000us       0.000us           0 b           0 b           0 b           0 b            10                                                                                []  \n",
      "                                       cudaLaunchKernel        68.38%      10.468ms        68.38%      10.468ms     209.360us       0.000us         0.00%       0.000us       0.000us           0 b           0 b           0 b           0 b            50                                                                                []  \n",
      "                                          aten::reshape         0.07%      10.000us         0.15%      23.000us       2.300us       0.000us         0.00%       0.000us       0.000us           0 b           0 b           0 b           0 b            10                                                                        [[16], []]  \n",
      "                                             aten::view         0.09%      14.000us         0.09%      14.000us       1.400us       0.000us         0.00%       0.000us       0.000us           0 b           0 b           0 b           0 b            10                                                                        [[16], []]  \n",
      "                                               [memory]         0.00%       0.000us         0.00%       0.000us       0.000us       0.000us         0.00%       0.000us       0.000us           0 b           0 b    -159.35 Mb    -159.35 Mb            30                                                                                []  \n",
      "                                          aten::flatten         0.15%      23.000us         0.34%      52.000us       5.200us       0.000us         0.00%       0.000us       0.000us           0 b           0 b           0 b           0 b            10                                                       [[2, 16, 222, 294], [], []]  \n",
      "                                             aten::view         0.21%      32.000us         0.21%      32.000us       3.200us       0.000us         0.00%       0.000us       0.000us           0 b           0 b           0 b           0 b            10                                                           [[2, 16, 222, 294], []]  \n",
      "                                                aten::t         0.22%      33.000us         0.43%      66.000us       6.600us       0.000us         0.00%       0.000us       0.000us           0 b           0 b           0 b           0 b            10                                                                    [[9, 1044288]]  \n",
      "                                        aten::transpose         0.18%      27.000us         0.20%      31.000us       3.100us       0.000us         0.00%       0.000us       0.000us           0 b           0 b           0 b           0 b            10                                                            [[9, 1044288], [], []]  \n",
      "                                       aten::as_strided         0.04%       6.000us         0.04%       6.000us       0.600us       0.000us         0.00%       0.000us       0.000us           0 b           0 b           0 b           0 b            10                                                        [[9, 1044288], [], [], []]  \n",
      "                                  cudaDeviceSynchronize        20.89%       3.198ms        20.89%       3.198ms       3.198ms       0.000us         0.00%       0.000us       0.000us           0 b           0 b           0 b           0 b             1                                                                                []  \n",
      "-------------------------------------------------------  ------------  ------------  ------------  ------------  ------------  ------------  ------------  ------------  ------------  ------------  ------------  ------------  ------------  ------------  --------------------------------------------------------------------------------  \n",
      "Self CPU time total: 15.308ms\n",
      "Self CUDA time total: 4.888ms\n",
      "\n"
     ]
    }
   ],
   "source": [
    "print(prof.key_averages(group_by_input_shape=True).table(sort_by=\"cuda_time_total\", row_limit=30))"
   ]
  },
  {
   "cell_type": "code",
   "execution_count": 21,
   "metadata": {},
   "outputs": [
    {
     "ename": "RuntimeError",
     "evalue": "Trace is already saved.",
     "output_type": "error",
     "traceback": [
      "\u001b[0;31m---------------------------------------------------------------------------\u001b[0m",
      "\u001b[0;31mRuntimeError\u001b[0m                              Traceback (most recent call last)",
      "Cell \u001b[0;32mIn[21], line 1\u001b[0m\n\u001b[0;32m----> 1\u001b[0m \u001b[43mprof\u001b[49m\u001b[38;5;241;43m.\u001b[39;49m\u001b[43mexport_chrome_trace\u001b[49m\u001b[43m(\u001b[49m\u001b[38;5;124;43m\"\u001b[39;49m\u001b[38;5;124;43m.profiling/trace.json\u001b[39;49m\u001b[38;5;124;43m\"\u001b[39;49m\u001b[43m)\u001b[49m\n\u001b[1;32m      3\u001b[0m \u001b[38;5;66;03m# Now go to chrome://tracing to load the trace.json file in a chrome browser\u001b[39;00m\n",
      "File \u001b[0;32m~/miniconda3/envs/FishEye/lib/python3.10/site-packages/torch/profiler/profiler.py:177\u001b[0m, in \u001b[0;36m_KinetoProfile.export_chrome_trace\u001b[0;34m(self, path)\u001b[0m\n\u001b[1;32m    175\u001b[0m     \u001b[38;5;28;01mreturn\u001b[39;00m retvalue\n\u001b[1;32m    176\u001b[0m \u001b[38;5;28;01melse\u001b[39;00m:\n\u001b[0;32m--> 177\u001b[0m     \u001b[38;5;28;01mreturn\u001b[39;00m \u001b[38;5;28;43mself\u001b[39;49m\u001b[38;5;241;43m.\u001b[39;49m\u001b[43mprofiler\u001b[49m\u001b[38;5;241;43m.\u001b[39;49m\u001b[43mexport_chrome_trace\u001b[49m\u001b[43m(\u001b[49m\u001b[43mpath\u001b[49m\u001b[43m)\u001b[49m\n",
      "File \u001b[0;32m~/miniconda3/envs/FishEye/lib/python3.10/site-packages/torch/autograd/profiler.py:377\u001b[0m, in \u001b[0;36mprofile.export_chrome_trace\u001b[0;34m(self, path)\u001b[0m\n\u001b[1;32m    375\u001b[0m \u001b[38;5;28mself\u001b[39m\u001b[38;5;241m.\u001b[39m_check_finish()\n\u001b[1;32m    376\u001b[0m \u001b[38;5;28;01mif\u001b[39;00m kineto_available():\n\u001b[0;32m--> 377\u001b[0m     \u001b[38;5;28;43mself\u001b[39;49m\u001b[38;5;241;43m.\u001b[39;49m\u001b[43mkineto_results\u001b[49m\u001b[38;5;241;43m.\u001b[39;49m\u001b[43msave\u001b[49m\u001b[43m(\u001b[49m\u001b[43mpath\u001b[49m\u001b[43m)\u001b[49m  \u001b[38;5;66;03m# type: ignore[union-attr]\u001b[39;00m\n\u001b[1;32m    378\u001b[0m \u001b[38;5;28;01melse\u001b[39;00m:\n\u001b[1;32m    379\u001b[0m     \u001b[38;5;28;01mreturn\u001b[39;00m \u001b[38;5;28mself\u001b[39m\u001b[38;5;241m.\u001b[39mfunction_events\u001b[38;5;241m.\u001b[39mexport_chrome_trace(path)\n",
      "\u001b[0;31mRuntimeError\u001b[0m: Trace is already saved."
     ]
    }
   ],
   "source": [
    "prof.export_chrome_trace(\".profiling/trace.json\")\n",
    "\n",
    "# Now go to chrome://tracing to load the trace.json file in a chrome browser"
   ]
  },
  {
   "cell_type": "code",
   "execution_count": 18,
   "metadata": {},
   "outputs": [
    {
     "name": "stderr",
     "output_type": "stream",
     "text": [
      "STAGE:2024-01-18 11:52:01 7025:7025 ActivityProfilerController.cpp:312] Completed Stage: Warm Up\n",
      "STAGE:2024-01-18 11:52:01 7025:7025 ActivityProfilerController.cpp:318] Completed Stage: Collection\n",
      "STAGE:2024-01-18 11:52:01 7025:7025 ActivityProfilerController.cpp:322] Completed Stage: Post Processing\n"
     ]
    }
   ],
   "source": [
    "with profile(activities=[ProfilerActivity.CPU, ProfilerActivity.CUDA], record_shapes=True, profile_memory=True) as prof:\n",
    "    for i in range(10):\n",
    "        model(images)\n",
    "        prof.step()\n",
    "\n",
    "prof.export_chrome_trace(\".profiling/trace.json\")"
   ]
  },
  {
   "cell_type": "code",
   "execution_count": 25,
   "metadata": {},
   "outputs": [
    {
     "name": "stderr",
     "output_type": "stream",
     "text": [
      "STAGE:2024-01-18 12:12:47 7025:7025 ActivityProfilerController.cpp:312] Completed Stage: Warm Up\n",
      "STAGE:2024-01-18 12:12:47 7025:7025 ActivityProfilerController.cpp:318] Completed Stage: Collection\n",
      "STAGE:2024-01-18 12:12:47 7025:7025 ActivityProfilerController.cpp:322] Completed Stage: Post Processing\n"
     ]
    }
   ],
   "source": [
    "DEVICE = \"cuda\"\n",
    "\n",
    "model.to(DEVICE)\n",
    "images = images.to(DEVICE)\n",
    "\n",
    "with profile(activities=[ProfilerActivity.CPU, ProfilerActivity.CUDA], record_shapes=True, profile_memory=True, on_trace_ready=tensorboard_trace_handler(\".profiling/log/modelv1\")) as prof:\n",
    "    for i in range(10):\n",
    "        model(images)\n",
    "        prof.step()"
   ]
  },
  {
   "cell_type": "code",
   "execution_count": 33,
   "metadata": {},
   "outputs": [
    {
     "name": "stderr",
     "output_type": "stream",
     "text": [
      "STAGE:2024-01-18 14:44:03 7025:7025 ActivityProfilerController.cpp:312] Completed Stage: Warm Up\n"
     ]
    },
    {
     "data": {
      "text/html": [
       "Finishing last run (ID:8gvkw61f) before initializing another..."
      ],
      "text/plain": [
       "<IPython.core.display.HTML object>"
      ]
     },
     "metadata": {},
     "output_type": "display_data"
    },
    {
     "data": {
      "text/html": [
       "<style>\n",
       "    table.wandb td:nth-child(1) { padding: 0 10px; text-align: left ; width: auto;} td:nth-child(2) {text-align: left ; width: 100%}\n",
       "    .wandb-row { display: flex; flex-direction: row; flex-wrap: wrap; justify-content: flex-start; width: 100% }\n",
       "    .wandb-col { display: flex; flex-direction: column; flex-basis: 100%; flex: 1; padding: 10px; }\n",
       "    </style>\n",
       "<div class=\"wandb-row\"><div class=\"wandb-col\"><h3>Run history:</h3><br/><table class=\"wandb\"><tr><td>epoch</td><td>▁▂▂▃▄▄▅▅▆▇▇▇█</td></tr><tr><td>test_acc</td><td>▁</td></tr><tr><td>test_loss</td><td>▁</td></tr><tr><td>train_acc_epoch</td><td>▃▂▅▂▁▂▅█▇▆</td></tr><tr><td>train_loss_epoch</td><td>▁▄▇██▅▅▃▂▂</td></tr><tr><td>trainer/global_step</td><td>▁▂▂▃▄▄▅▅▆▇███</td></tr><tr><td>val_acc</td><td>█▁</td></tr><tr><td>val_loss</td><td>█▁</td></tr></table><br/></div><div class=\"wandb-col\"><h3>Run summary:</h3><br/><table class=\"wandb\"><tr><td>epoch</td><td>10</td></tr><tr><td>test_acc</td><td>0.11628</td></tr><tr><td>test_loss</td><td>19237.50391</td></tr><tr><td>train_acc_epoch</td><td>0.22384</td></tr><tr><td>train_loss_epoch</td><td>15477.79395</td></tr><tr><td>trainer/global_step</td><td>20</td></tr><tr><td>val_acc</td><td>0.09302</td></tr><tr><td>val_loss</td><td>20753.71289</td></tr></table><br/></div></div>"
      ],
      "text/plain": [
       "<IPython.core.display.HTML object>"
      ]
     },
     "metadata": {},
     "output_type": "display_data"
    },
    {
     "data": {
      "text/html": [
       "You can sync this run to the cloud by running:<br/><code>wandb sync /home/eigil/DTU/02476-ML-Ops/wandb/offline-run-20240118_144316-8gvkw61f<code>"
      ],
      "text/plain": [
       "<IPython.core.display.HTML object>"
      ]
     },
     "metadata": {},
     "output_type": "display_data"
    },
    {
     "data": {
      "text/html": [
       "Find logs at: <code>./wandb/offline-run-20240118_144316-8gvkw61f/logs</code>"
      ],
      "text/plain": [
       "<IPython.core.display.HTML object>"
      ]
     },
     "metadata": {},
     "output_type": "display_data"
    },
    {
     "data": {
      "text/html": [
       "Successfully finished last run (ID:8gvkw61f). Initializing new run:<br/>"
      ],
      "text/plain": [
       "<IPython.core.display.HTML object>"
      ]
     },
     "metadata": {},
     "output_type": "display_data"
    },
    {
     "data": {
      "text/html": [
       "Tracking run with wandb version 0.16.2"
      ],
      "text/plain": [
       "<IPython.core.display.HTML object>"
      ]
     },
     "metadata": {},
     "output_type": "display_data"
    },
    {
     "data": {
      "text/html": [
       "W&B syncing is set to <code>`offline`<code> in this directory.  <br/>Run <code>`wandb online`<code> or set <code>WANDB_MODE=online<code> to enable cloud syncing."
      ],
      "text/plain": [
       "<IPython.core.display.HTML object>"
      ]
     },
     "metadata": {},
     "output_type": "display_data"
    },
    {
     "name": "stderr",
     "output_type": "stream",
     "text": [
      "GPU available: True (cuda), used: True\n",
      "TPU available: False, using: 0 TPU cores\n",
      "IPU available: False, using: 0 IPUs\n",
      "HPU available: False, using: 0 HPUs\n",
      "/home/eigil/miniconda3/envs/FishEye/lib/python3.10/site-packages/pytorch_lightning/callbacks/model_checkpoint.py:639: Checkpoint directory /home/eigil/DTU/02476-ML-Ops/models exists and is not empty.\n",
      "LOCAL_RANK: 0 - CUDA_VISIBLE_DEVICES: [0]\n",
      "\n",
      "  | Name       | Type               | Params\n",
      "--------------------------------------------------\n",
      "0 | accuracy   | MulticlassAccuracy | 0     \n",
      "1 | classifier | Sequential         | 9.4 M \n",
      "2 | criterion  | CrossEntropyLoss   | 0     \n",
      "--------------------------------------------------\n",
      "9.4 M     Trainable params\n",
      "0         Non-trainable params\n",
      "9.4 M     Total params\n",
      "37.596    Total estimated model params size (MB)\n"
     ]
    },
    {
     "name": "stdout",
     "output_type": "stream",
     "text": [
      "                                                                            "
     ]
    },
    {
     "name": "stderr",
     "output_type": "stream",
     "text": [
      "/home/eigil/miniconda3/envs/FishEye/lib/python3.10/site-packages/pytorch_lightning/trainer/connectors/data_connector.py:441: The 'val_dataloader' does not have many workers which may be a bottleneck. Consider increasing the value of the `num_workers` argument` to `num_workers=19` in the `DataLoader` to improve performance.\n",
      "/home/eigil/miniconda3/envs/FishEye/lib/python3.10/site-packages/pytorch_lightning/trainer/connectors/data_connector.py:441: The 'train_dataloader' does not have many workers which may be a bottleneck. Consider increasing the value of the `num_workers` argument` to `num_workers=19` in the `DataLoader` to improve performance.\n",
      "/home/eigil/miniconda3/envs/FishEye/lib/python3.10/site-packages/pytorch_lightning/loops/fit_loop.py:293: The number of training batches (2) is smaller than the logging interval Trainer(log_every_n_steps=50). Set a lower value for log_every_n_steps if you want to see logs for the training epoch.\n"
     ]
    },
    {
     "name": "stdout",
     "output_type": "stream",
     "text": [
      "Epoch 9: 100%|██████████| 2/2 [00:00<00:00,  3.94it/s, v_num=9wq1, train_acc_step=0.250, train_loss_step=1.11e+4, train_acc_epoch=0.326, train_loss_epoch=9.56e+3, val_acc=0.140, val_loss=8.83e+3] "
     ]
    },
    {
     "name": "stderr",
     "output_type": "stream",
     "text": [
      "`Trainer.fit` stopped: `max_epochs=10` reached.\n"
     ]
    },
    {
     "name": "stdout",
     "output_type": "stream",
     "text": [
      "Epoch 9: 100%|██████████| 2/2 [00:00<00:00,  3.93it/s, v_num=9wq1, train_acc_step=0.250, train_loss_step=1.11e+4, train_acc_epoch=0.326, train_loss_epoch=9.56e+3, val_acc=0.140, val_loss=8.83e+3]\n"
     ]
    },
    {
     "name": "stderr",
     "output_type": "stream",
     "text": [
      "Restoring states from the checkpoint path at /home/eigil/DTU/02476-ML-Ops/models/epoch=9-step=20-v1.ckpt\n",
      "LOCAL_RANK: 0 - CUDA_VISIBLE_DEVICES: [0]\n",
      "Loaded model weights from the checkpoint at /home/eigil/DTU/02476-ML-Ops/models/epoch=9-step=20-v1.ckpt\n",
      "/home/eigil/miniconda3/envs/FishEye/lib/python3.10/site-packages/pytorch_lightning/trainer/connectors/data_connector.py:441: The 'test_dataloader' does not have many workers which may be a bottleneck. Consider increasing the value of the `num_workers` argument` to `num_workers=19` in the `DataLoader` to improve performance.\n"
     ]
    },
    {
     "name": "stdout",
     "output_type": "stream",
     "text": [
      "Testing DataLoader 0: 100%|██████████| 1/1 [00:00<00:00, 113.26it/s]\n"
     ]
    },
    {
     "data": {
      "text/html": [
       "<pre style=\"white-space:pre;overflow-x:auto;line-height:normal;font-family:Menlo,'DejaVu Sans Mono',consolas,'Courier New',monospace\">┏━━━━━━━━━━━━━━━━━━━━━━━━━━━┳━━━━━━━━━━━━━━━━━━━━━━━━━━━┓\n",
       "┃<span style=\"font-weight: bold\">        Test metric        </span>┃<span style=\"font-weight: bold\">       DataLoader 0        </span>┃\n",
       "┡━━━━━━━━━━━━━━━━━━━━━━━━━━━╇━━━━━━━━━━━━━━━━━━━━━━━━━━━┩\n",
       "│<span style=\"color: #008080; text-decoration-color: #008080\">         test_acc          </span>│<span style=\"color: #800080; text-decoration-color: #800080\">    0.04651162773370743    </span>│\n",
       "│<span style=\"color: #008080; text-decoration-color: #008080\">         test_loss         </span>│<span style=\"color: #800080; text-decoration-color: #800080\">      10270.47265625       </span>│\n",
       "└───────────────────────────┴───────────────────────────┘\n",
       "</pre>\n"
      ],
      "text/plain": [
       "┏━━━━━━━━━━━━━━━━━━━━━━━━━━━┳━━━━━━━━━━━━━━━━━━━━━━━━━━━┓\n",
       "┃\u001b[1m \u001b[0m\u001b[1m       Test metric       \u001b[0m\u001b[1m \u001b[0m┃\u001b[1m \u001b[0m\u001b[1m      DataLoader 0       \u001b[0m\u001b[1m \u001b[0m┃\n",
       "┡━━━━━━━━━━━━━━━━━━━━━━━━━━━╇━━━━━━━━━━━━━━━━━━━━━━━━━━━┩\n",
       "│\u001b[36m \u001b[0m\u001b[36m        test_acc         \u001b[0m\u001b[36m \u001b[0m│\u001b[35m \u001b[0m\u001b[35m   0.04651162773370743   \u001b[0m\u001b[35m \u001b[0m│\n",
       "│\u001b[36m \u001b[0m\u001b[36m        test_loss        \u001b[0m\u001b[36m \u001b[0m│\u001b[35m \u001b[0m\u001b[35m     10270.47265625      \u001b[0m\u001b[35m \u001b[0m│\n",
       "└───────────────────────────┴───────────────────────────┘\n"
      ]
     },
     "metadata": {},
     "output_type": "display_data"
    },
    {
     "name": "stderr",
     "output_type": "stream",
     "text": [
      "STAGE:2024-01-18 14:44:13 7025:7025 ActivityProfilerController.cpp:318] Completed Stage: Collection\n",
      "STAGE:2024-01-18 14:44:13 7025:7025 ActivityProfilerController.cpp:322] Completed Stage: Post Processing\n"
     ]
    }
   ],
   "source": [
    "from FishEye.train_model import train\n",
    "prof_cfg = OmegaConf.load(\".profiling/prof_config.yaml\")\n",
    "\n",
    "prof_cfg.trainer_hyperparameters.batch_size = 256\n",
    "\n",
    "DEVICE = \"cuda\"\n",
    "\n",
    "model.to(DEVICE)\n",
    "images = images.to(DEVICE)\n",
    "\n",
    "with profile(activities=[ProfilerActivity.CPU, ProfilerActivity.CUDA], record_shapes=True, profile_memory=True, on_trace_ready=tensorboard_trace_handler(\".profiling/log/trainv3\")) as prof:\n",
    "    train(prof_cfg)"
   ]
  }
 ],
 "metadata": {
  "kernelspec": {
   "display_name": "FishEye",
   "language": "python",
   "name": "python3"
  },
  "language_info": {
   "codemirror_mode": {
    "name": "ipython",
    "version": 3
   },
   "file_extension": ".py",
   "mimetype": "text/x-python",
   "name": "python",
   "nbconvert_exporter": "python",
   "pygments_lexer": "ipython3",
   "version": "3.10.13"
  }
 },
 "nbformat": 4,
 "nbformat_minor": 2
}
